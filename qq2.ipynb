{
 "cells": [
  {
   "cell_type": "code",
   "execution_count": null,
   "id": "fe063d76-4f78-47f1-9d57-e42a6a50a077",
   "metadata": {},
   "outputs": [],
   "source": [
    "import pandas as pd\n",
    "import glob\n",
    "\n",
    "# Load all 8 CSVs (assuming you're running this inside the same GitHub repo)\n",
    "csv_files = glob.glob(\"*.csv\")\n",
    "csv_files.remove(\"q2.ipynb\")  # Remove the notebook file if it's picked up\n",
    "\n",
    "# Read each CSV into a list of DataFrames\n",
    "df_list = [pd.read_csv(file) for file in csv_files]\n",
    "\n",
    "# Concatenate into a single DataFrame\n",
    "wine_df = pd.concat(df_list, ignore_index=True)\n",
    "\n",
    "# Preview the data\n",
    "wine_df.head()\n"
   ]
  }
 ],
 "metadata": {
  "kernelspec": {
   "display_name": "Python 3 (ipykernel)",
   "language": "python",
   "name": "python3"
  },
  "language_info": {
   "codemirror_mode": {
    "name": "ipython",
    "version": 3
   },
   "file_extension": ".py",
   "mimetype": "text/x-python",
   "name": "python",
   "nbconvert_exporter": "python",
   "pygments_lexer": "ipython3",
   "version": "3.12.7"
  }
 },
 "nbformat": 4,
 "nbformat_minor": 5
}
